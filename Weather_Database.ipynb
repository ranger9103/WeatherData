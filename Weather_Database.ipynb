{
 "cells": [
  {
   "cell_type": "code",
   "execution_count": 1,
   "id": "570215fd",
   "metadata": {},
   "outputs": [],
   "source": [
    "import numpy as np\n",
    "\n"
   ]
  },
  {
   "cell_type": "code",
   "execution_count": 2,
   "id": "6355d7c1",
   "metadata": {},
   "outputs": [],
   "source": [
    "from config import weather_api_key"
   ]
  },
  {
   "cell_type": "code",
   "execution_count": 3,
   "id": "39defe4b",
   "metadata": {},
   "outputs": [],
   "source": [
    "# create 2000 random latitudes and longitudes\n",
    "import random"
   ]
  },
  {
   "cell_type": "code",
   "execution_count": 4,
   "id": "55d6dc58",
   "metadata": {},
   "outputs": [
    {
     "data": {
      "text/plain": [
       "-87.45335205498597"
      ]
     },
     "execution_count": 4,
     "metadata": {},
     "output_type": "execute_result"
    }
   ],
   "source": [
    "random_number=random.randint(-90,89)+random.random()\n",
    "random_number"
   ]
  },
  {
   "cell_type": "code",
   "execution_count": 5,
   "id": "4423980e",
   "metadata": {},
   "outputs": [],
   "source": [
    "x=1\n",
    "latitudes=[]\n",
    "while x <11:\n",
    "    random_lat=random.randint(-90,89)+random.random()\n",
    "    latitudes.append(random_lat)\n",
    "    x+=1"
   ]
  },
  {
   "cell_type": "code",
   "execution_count": 6,
   "id": "ed3e2070",
   "metadata": {},
   "outputs": [
    {
     "data": {
      "text/plain": [
       "[-35.62707706085289,\n",
       " -66.53876714826072,\n",
       " -45.91644697687525,\n",
       " -9.567178314162224,\n",
       " -7.76419664266362,\n",
       " 24.47741791383072,\n",
       " -24.75898749907571,\n",
       " 60.81094459145956,\n",
       " -46.126533895001515,\n",
       " -32.74963413035949]"
      ]
     },
     "execution_count": 6,
     "metadata": {},
     "output_type": "execute_result"
    }
   ],
   "source": [
    "latitudes\n"
   ]
  },
  {
   "cell_type": "code",
   "execution_count": 7,
   "id": "d6742154",
   "metadata": {},
   "outputs": [
    {
     "data": {
      "text/plain": [
       "array([ 16.48263638, -67.8394351 , -53.97352721, ...,  34.22014095,\n",
       "        18.66714926,  16.44936909])"
      ]
     },
     "execution_count": 7,
     "metadata": {},
     "output_type": "execute_result"
    }
   ],
   "source": [
    "np.random.uniform(-90,90,size=2000)"
   ]
  },
  {
   "cell_type": "code",
   "execution_count": 8,
   "id": "cb4c67fb",
   "metadata": {},
   "outputs": [],
   "source": [
    "import timeit"
   ]
  },
  {
   "cell_type": "code",
   "execution_count": 9,
   "id": "573ab426",
   "metadata": {},
   "outputs": [
    {
     "name": "stdout",
     "output_type": "stream",
     "text": [
      "18.9 µs ± 270 ns per loop (mean ± std. dev. of 7 runs, 100000 loops each)\n"
     ]
    }
   ],
   "source": [
    "%timeit np.random.uniform(-90,90,size=2000)"
   ]
  },
  {
   "cell_type": "code",
   "execution_count": 10,
   "id": "650ecf19",
   "metadata": {},
   "outputs": [
    {
     "name": "stdout",
     "output_type": "stream",
     "text": [
      "3.13 ms ± 36.6 µs per loop (mean ± std. dev. of 7 runs, 100 loops each)\n"
     ]
    }
   ],
   "source": [
    "def latitudes(size):\n",
    "    latitudes=[]\n",
    "    x=0\n",
    "    while x<(size):\n",
    "        random_lat=random.randint(-90,90)+random.random()\n",
    "        latitudes.append(random_lat)\n",
    "        x+=1\n",
    "        \n",
    "%timeit latitudes(2000)"
   ]
  },
  {
   "cell_type": "code",
   "execution_count": 11,
   "id": "e08cfe97",
   "metadata": {},
   "outputs": [],
   "source": [
    "import pandas as pd\n",
    "import matplotlib.pyplot as plt\n"
   ]
  },
  {
   "cell_type": "code",
   "execution_count": 12,
   "id": "f14e46d6",
   "metadata": {},
   "outputs": [
    {
     "data": {
      "text/plain": [
       "<zip at 0x25eabdab908>"
      ]
     },
     "execution_count": 12,
     "metadata": {},
     "output_type": "execute_result"
    }
   ],
   "source": [
    "lats=np.random.uniform(low=-90,high=90,size=2000)\n",
    "lngs=np.random.uniform(low=-180,high=180,size=2000)\n",
    "lat_lngs=zip(lats,lngs)\n",
    "lat_lngs"
   ]
  },
  {
   "cell_type": "code",
   "execution_count": 13,
   "id": "2392ee6b",
   "metadata": {},
   "outputs": [],
   "source": [
    "coordinates=list(lat_lngs)"
   ]
  },
  {
   "cell_type": "code",
   "execution_count": 14,
   "id": "7eb40231",
   "metadata": {},
   "outputs": [],
   "source": [
    "from citipy import citipy"
   ]
  },
  {
   "cell_type": "code",
   "execution_count": null,
   "id": "c9c1f6e6",
   "metadata": {},
   "outputs": [],
   "source": []
  },
  {
   "cell_type": "code",
   "execution_count": 15,
   "id": "5d543c4c",
   "metadata": {},
   "outputs": [],
   "source": [
    "# get the nearest city using the citipy module"
   ]
  },
  {
   "cell_type": "code",
   "execution_count": 16,
   "id": "0b11759d",
   "metadata": {},
   "outputs": [
    {
     "data": {
      "text/plain": [
       "713"
      ]
     },
     "execution_count": 16,
     "metadata": {},
     "output_type": "execute_result"
    }
   ],
   "source": [
    "cities=[]\n",
    "\n",
    "for coordinate in coordinates:\n",
    "    city=citipy.nearest_city(coordinate[0],coordinate[1]).city_name\n",
    "    \n",
    "    if city not in cities:\n",
    "        cities.append(city)\n",
    "        \n",
    "len(cities)"
   ]
  },
  {
   "cell_type": "code",
   "execution_count": null,
   "id": "d3229f54",
   "metadata": {},
   "outputs": [],
   "source": []
  },
  {
   "cell_type": "code",
   "execution_count": 17,
   "id": "211dfb30",
   "metadata": {},
   "outputs": [],
   "source": [
    "#perform an API call with the open weather map"
   ]
  },
  {
   "cell_type": "code",
   "execution_count": 18,
   "id": "0ceeedf7",
   "metadata": {},
   "outputs": [],
   "source": [
    "import requests"
   ]
  },
  {
   "cell_type": "code",
   "execution_count": null,
   "id": "0aaba068",
   "metadata": {},
   "outputs": [],
   "source": []
  },
  {
   "cell_type": "code",
   "execution_count": 19,
   "id": "c2a5ed40",
   "metadata": {},
   "outputs": [
    {
     "name": "stdout",
     "output_type": "stream",
     "text": [
      "http://api.openweathermap.org/data/2.5/weather?units=Imperial&APPID=90ace66f00a3c5922f19fb24816a7ef1\n"
     ]
    }
   ],
   "source": [
    "url = \"http://api.openweathermap.org/data/2.5/weather?units=Imperial&APPID=\" + weather_api_key\n",
    "print(url)"
   ]
  },
  {
   "cell_type": "code",
   "execution_count": 20,
   "id": "a3c70d70",
   "metadata": {},
   "outputs": [],
   "source": [
    "city_url=url+\"&q=\"+\"Boston\""
   ]
  },
  {
   "cell_type": "code",
   "execution_count": 21,
   "id": "6070d872",
   "metadata": {},
   "outputs": [
    {
     "name": "stdout",
     "output_type": "stream",
     "text": [
      "http://api.openweathermap.org/data/2.5/weather?units=Imperial&APPID=90ace66f00a3c5922f19fb24816a7ef1&q=Boston\n"
     ]
    }
   ],
   "source": [
    "city_weather=requests.get(city_url)\n",
    "print(city_url)"
   ]
  },
  {
   "cell_type": "code",
   "execution_count": 22,
   "id": "c4f6badb",
   "metadata": {},
   "outputs": [
    {
     "data": {
      "text/plain": [
       "<Response [200]>"
      ]
     },
     "execution_count": 22,
     "metadata": {},
     "output_type": "execute_result"
    }
   ],
   "source": [
    "city_weather"
   ]
  },
  {
   "cell_type": "code",
   "execution_count": 23,
   "id": "50e1e5d7",
   "metadata": {},
   "outputs": [
    {
     "data": {
      "text/plain": [
       "'{\"coord\":{\"lon\":-71.0598,\"lat\":42.3584},\"weather\":[{\"id\":803,\"main\":\"Clouds\",\"description\":\"broken clouds\",\"icon\":\"04n\"}],\"base\":\"stations\",\"main\":{\"temp\":44.17,\"feels_like\":38.26,\"temp_min\":38.3,\"temp_max\":47.01,\"pressure\":1017,\"humidity\":48},\"visibility\":10000,\"wind\":{\"speed\":11.5,\"deg\":340},\"clouds\":{\"all\":75},\"dt\":1651290393,\"sys\":{\"type\":2,\"id\":2013408,\"country\":\"US\",\"sunrise\":1651225325,\"sunset\":1651275651},\"timezone\":-14400,\"id\":4930956,\"name\":\"Boston\",\"cod\":200}'"
      ]
     },
     "execution_count": 23,
     "metadata": {},
     "output_type": "execute_result"
    }
   ],
   "source": [
    "city_weather.text"
   ]
  },
  {
   "cell_type": "code",
   "execution_count": 24,
   "id": "a9f05df1",
   "metadata": {},
   "outputs": [
    {
     "data": {
      "text/plain": [
       "{'coord': {'lon': -71.0598, 'lat': 42.3584},\n",
       " 'weather': [{'id': 803,\n",
       "   'main': 'Clouds',\n",
       "   'description': 'broken clouds',\n",
       "   'icon': '04n'}],\n",
       " 'base': 'stations',\n",
       " 'main': {'temp': 44.17,\n",
       "  'feels_like': 38.26,\n",
       "  'temp_min': 38.3,\n",
       "  'temp_max': 47.01,\n",
       "  'pressure': 1017,\n",
       "  'humidity': 48},\n",
       " 'visibility': 10000,\n",
       " 'wind': {'speed': 11.5, 'deg': 340},\n",
       " 'clouds': {'all': 75},\n",
       " 'dt': 1651290393,\n",
       " 'sys': {'type': 2,\n",
       "  'id': 2013408,\n",
       "  'country': 'US',\n",
       "  'sunrise': 1651225325,\n",
       "  'sunset': 1651275651},\n",
       " 'timezone': -14400,\n",
       " 'id': 4930956,\n",
       " 'name': 'Boston',\n",
       " 'cod': 200}"
      ]
     },
     "execution_count": 24,
     "metadata": {},
     "output_type": "execute_result"
    }
   ],
   "source": [
    "city_weather.json()"
   ]
  },
  {
   "cell_type": "code",
   "execution_count": 25,
   "id": "31e76c91",
   "metadata": {},
   "outputs": [
    {
     "name": "stdout",
     "output_type": "stream",
     "text": [
      "City Weather Found\n"
     ]
    }
   ],
   "source": [
    "city_url=url+\"&q=\"+\"Boston\"\n",
    "city_weather=requests.get(city_url)\n",
    "if city_weather.status_code==200:\n",
    "    print(f\"City Weather Found\")\n",
    "else:\n",
    "    print(f\"City weather not found\")"
   ]
  },
  {
   "cell_type": "code",
   "execution_count": 26,
   "id": "ad4ebf9d",
   "metadata": {},
   "outputs": [
    {
     "name": "stdout",
     "output_type": "stream",
     "text": [
      "http://api.openweathermap.org/data/2.5/weather?units=Imperial&APPID=90ace66f00a3c5922f19fb24816a7ef1&q=Boston\n"
     ]
    }
   ],
   "source": [
    "print(city_url)"
   ]
  },
  {
   "cell_type": "code",
   "execution_count": 27,
   "id": "08f91898",
   "metadata": {},
   "outputs": [],
   "source": [
    "#retrieve from the api call: lat and lon, max temp, %humidity, %cloudiness, wind speed, weather description\n"
   ]
  },
  {
   "cell_type": "code",
   "execution_count": 28,
   "id": "9a29ddf9",
   "metadata": {},
   "outputs": [],
   "source": [
    "boston_data=city_weather.json()\n"
   ]
  },
  {
   "cell_type": "code",
   "execution_count": 29,
   "id": "fb2bdf71",
   "metadata": {},
   "outputs": [
    {
     "data": {
      "text/plain": [
       "{'type': 2,\n",
       " 'id': 2013408,\n",
       " 'country': 'US',\n",
       " 'sunrise': 1651225325,\n",
       " 'sunset': 1651275651}"
      ]
     },
     "execution_count": 29,
     "metadata": {},
     "output_type": "execute_result"
    }
   ],
   "source": [
    "boston_data[\"sys\"]"
   ]
  },
  {
   "cell_type": "code",
   "execution_count": 30,
   "id": "977783e2",
   "metadata": {},
   "outputs": [
    {
     "data": {
      "text/plain": [
       "'US'"
      ]
     },
     "execution_count": 30,
     "metadata": {},
     "output_type": "execute_result"
    }
   ],
   "source": [
    "boston_data[\"sys\"][\"country\"]"
   ]
  },
  {
   "cell_type": "code",
   "execution_count": 31,
   "id": "ccdd225e",
   "metadata": {},
   "outputs": [
    {
     "data": {
      "text/plain": [
       "1651290393"
      ]
     },
     "execution_count": 31,
     "metadata": {},
     "output_type": "execute_result"
    }
   ],
   "source": [
    "boston_data[\"dt\"]"
   ]
  },
  {
   "cell_type": "code",
   "execution_count": 32,
   "id": "525eef0b",
   "metadata": {},
   "outputs": [
    {
     "name": "stdout",
     "output_type": "stream",
     "text": [
      "42.3584 -71.0598 47.01 48 75 11.5\n"
     ]
    }
   ],
   "source": [
    "lat=boston_data[\"coord\"][\"lat\"]\n",
    "lng=boston_data[\"coord\"][\"lon\"]\n",
    "max_temp=boston_data[\"main\"][\"temp_max\"]\n",
    "humidity=boston_data[\"main\"][\"humidity\"]\n",
    "clouds=boston_data[\"clouds\"][\"all\"]\n",
    "wind=boston_data[\"wind\"][\"speed\"]\n",
    "print(lat,lng,max_temp,humidity,clouds,wind)"
   ]
  },
  {
   "cell_type": "code",
   "execution_count": 33,
   "id": "87b028b1",
   "metadata": {},
   "outputs": [
    {
     "data": {
      "text/plain": [
       "datetime.datetime(2022, 4, 30, 3, 46, 33)"
      ]
     },
     "execution_count": 33,
     "metadata": {},
     "output_type": "execute_result"
    }
   ],
   "source": [
    "import time\n",
    "from datetime import datetime\n",
    "date=boston_data[\"dt\"]\n",
    "datetime.utcfromtimestamp(date)"
   ]
  },
  {
   "cell_type": "code",
   "execution_count": 34,
   "id": "a087e4a8",
   "metadata": {},
   "outputs": [
    {
     "data": {
      "text/plain": [
       "'2022-04-30 03:46:33'"
      ]
     },
     "execution_count": 34,
     "metadata": {},
     "output_type": "execute_result"
    }
   ],
   "source": [
    "datetime.utcfromtimestamp(date).strftime('%Y-%m-%d %H:%M:%S')"
   ]
  },
  {
   "cell_type": "code",
   "execution_count": 35,
   "id": "40412136",
   "metadata": {},
   "outputs": [
    {
     "name": "stdout",
     "output_type": "stream",
     "text": [
      "Beginning Data Retrieval      \n",
      "------------------------------\n",
      "Processing Record 1 of Set 15 | grand river south east\n",
      "City not found. Skipping...\n",
      "Processing Record 2 of Set 15 | vila velha\n",
      "Processing Record 3 of Set 15 | palabuhanratu\n",
      "City not found. Skipping...\n",
      "Processing Record 4 of Set 15 | chapais\n",
      "Processing Record 5 of Set 15 | kamenka\n",
      "Processing Record 6 of Set 15 | port elizabeth\n",
      "Processing Record 7 of Set 15 | rikitea\n",
      "Processing Record 8 of Set 15 | sinnamary\n",
      "Processing Record 9 of Set 15 | sao filipe\n",
      "Processing Record 10 of Set 15 | maragogi\n",
      "Processing Record 11 of Set 15 | waharoa\n",
      "Processing Record 12 of Set 15 | caxito\n",
      "Processing Record 13 of Set 15 | albany\n",
      "Processing Record 14 of Set 15 | tsaratanana\n",
      "Processing Record 15 of Set 15 | meulaboh\n",
      "Processing Record 16 of Set 15 | torbay\n",
      "Processing Record 17 of Set 15 | iqaluit\n",
      "Processing Record 18 of Set 15 | iracoubo\n",
      "Processing Record 19 of Set 15 | hilo\n",
      "Processing Record 20 of Set 15 | longyearbyen\n",
      "Processing Record 21 of Set 15 | saint-philippe\n",
      "Processing Record 22 of Set 15 | bonthe\n",
      "Processing Record 23 of Set 15 | tapa\n",
      "Processing Record 24 of Set 15 | christchurch\n",
      "Processing Record 25 of Set 15 | mastic beach\n",
      "Processing Record 26 of Set 15 | kahului\n",
      "Processing Record 27 of Set 15 | busselton\n",
      "Processing Record 28 of Set 15 | faanui\n",
      "Processing Record 29 of Set 15 | colares\n",
      "Processing Record 30 of Set 15 | atuona\n",
      "Processing Record 31 of Set 15 | riyadh\n",
      "Processing Record 32 of Set 15 | port alfred\n",
      "Processing Record 33 of Set 15 | great falls\n",
      "Processing Record 34 of Set 15 | yamada\n",
      "Processing Record 35 of Set 15 | norman wells\n",
      "Processing Record 36 of Set 15 | lasa\n",
      "Processing Record 37 of Set 15 | labuhan\n",
      "Processing Record 38 of Set 15 | avarua\n",
      "Processing Record 39 of Set 15 | kapaa\n",
      "Processing Record 40 of Set 15 | toliary\n",
      "City not found. Skipping...\n",
      "Processing Record 41 of Set 15 | alugan\n",
      "Processing Record 42 of Set 15 | sieradz\n",
      "Processing Record 43 of Set 15 | yar-sale\n",
      "Processing Record 44 of Set 15 | igarka\n",
      "Processing Record 45 of Set 15 | qaanaaq\n",
      "Processing Record 46 of Set 15 | valer\n",
      "Processing Record 47 of Set 15 | ribeira grande\n",
      "Processing Record 48 of Set 15 | vaini\n",
      "Processing Record 49 of Set 15 | kalachinsk\n",
      "Processing Record 50 of Set 15 | nikolskoye\n",
      "Processing Record 1 of Set 16 | greymouth\n",
      "Processing Record 2 of Set 16 | kodiak\n",
      "Processing Record 3 of Set 16 | klaksvik\n",
      "Processing Record 4 of Set 16 | tuktoyaktuk\n",
      "Processing Record 5 of Set 16 | ushuaia\n",
      "Processing Record 6 of Set 16 | myaundzha\n",
      "Processing Record 7 of Set 16 | upernavik\n",
      "Processing Record 8 of Set 16 | ketchikan\n",
      "Processing Record 9 of Set 16 | baghdad\n",
      "Processing Record 10 of Set 16 | muros\n",
      "Processing Record 11 of Set 16 | hofn\n",
      "Processing Record 12 of Set 16 | narsaq\n",
      "Processing Record 13 of Set 16 | launceston\n",
      "Processing Record 14 of Set 16 | carnarvon\n",
      "Processing Record 15 of Set 16 | nam som\n",
      "Processing Record 16 of Set 16 | maniitsoq\n",
      "Processing Record 17 of Set 16 | marrakesh\n",
      "Processing Record 18 of Set 16 | illoqqortoormiut\n",
      "City not found. Skipping...\n",
      "Processing Record 19 of Set 16 | cape town\n",
      "Processing Record 20 of Set 16 | waipawa\n",
      "Processing Record 21 of Set 16 | qasigiannguit\n",
      "Processing Record 22 of Set 16 | cherskiy\n",
      "Processing Record 23 of Set 16 | punta arenas\n",
      "Processing Record 24 of Set 16 | hermanus\n",
      "Processing Record 25 of Set 16 | puerto ayora\n",
      "Processing Record 26 of Set 16 | hithadhoo\n",
      "Processing Record 27 of Set 16 | castro\n",
      "Processing Record 28 of Set 16 | provideniya\n",
      "Processing Record 29 of Set 16 | fortuna\n",
      "Processing Record 30 of Set 16 | lata\n",
      "Processing Record 31 of Set 16 | codrington\n",
      "Processing Record 32 of Set 16 | taolanaro\n",
      "City not found. Skipping...\n",
      "Processing Record 33 of Set 16 | tumannyy\n",
      "City not found. Skipping...\n",
      "Processing Record 34 of Set 16 | butaritari\n",
      "Processing Record 35 of Set 16 | qaqortoq\n",
      "Processing Record 36 of Set 16 | sabha\n",
      "Processing Record 37 of Set 16 | karatuzskoye\n",
      "Processing Record 38 of Set 16 | bluff\n",
      "Processing Record 39 of Set 16 | hobart\n",
      "Processing Record 40 of Set 16 | zhezkazgan\n",
      "Processing Record 41 of Set 16 | beringovskiy\n",
      "Processing Record 42 of Set 16 | barentsburg\n",
      "City not found. Skipping...\n",
      "Processing Record 43 of Set 16 | aksarka\n",
      "Processing Record 44 of Set 16 | cleveland\n",
      "Processing Record 45 of Set 16 | airai\n",
      "Processing Record 46 of Set 16 | salinopolis\n",
      "Processing Record 47 of Set 16 | souillac\n",
      "Processing Record 48 of Set 16 | vardo\n",
      "Processing Record 49 of Set 16 | tres de maio\n",
      "Processing Record 50 of Set 16 | new norfolk\n",
      "Processing Record 1 of Set 17 | chuka\n",
      "Processing Record 2 of Set 17 | nara\n",
      "Processing Record 3 of Set 17 | bud\n",
      "Processing Record 4 of Set 17 | beni\n",
      "Processing Record 5 of Set 17 | russellville\n",
      "Processing Record 6 of Set 17 | stawell\n",
      "Processing Record 7 of Set 17 | kamenskoye\n",
      "City not found. Skipping...\n",
      "Processing Record 8 of Set 17 | jamestown\n",
      "Processing Record 9 of Set 17 | yaring\n",
      "Processing Record 10 of Set 17 | pathein\n",
      "Processing Record 11 of Set 17 | marsa matruh\n",
      "Processing Record 12 of Set 17 | barrow\n",
      "Processing Record 13 of Set 17 | basco\n",
      "Processing Record 14 of Set 17 | vaitupu\n",
      "City not found. Skipping...\n",
      "Processing Record 15 of Set 17 | zheleznodorozhnyy\n",
      "Processing Record 16 of Set 17 | katsuura\n",
      "Processing Record 17 of Set 17 | nome\n",
      "Processing Record 18 of Set 17 | samusu\n",
      "City not found. Skipping...\n",
      "Processing Record 19 of Set 17 | mataura\n",
      "Processing Record 20 of Set 17 | caohe\n",
      "Processing Record 21 of Set 17 | bharuch\n",
      "Processing Record 22 of Set 17 | yellowknife\n",
      "Processing Record 23 of Set 17 | ixtapa\n",
      "Processing Record 24 of Set 17 | acarau\n",
      "Processing Record 25 of Set 17 | mount darwin\n",
      "Processing Record 26 of Set 17 | belyy yar\n",
      "Processing Record 27 of Set 17 | itacoatiara\n",
      "Processing Record 28 of Set 17 | sarangani\n",
      "Processing Record 29 of Set 17 | agra\n",
      "Processing Record 30 of Set 17 | lobito\n",
      "Processing Record 31 of Set 17 | arraial do cabo\n",
      "Processing Record 32 of Set 17 | georgetown\n",
      "Processing Record 33 of Set 17 | auki\n",
      "Processing Record 34 of Set 17 | evensk\n",
      "Processing Record 35 of Set 17 | kuche\n",
      "City not found. Skipping...\n",
      "Processing Record 36 of Set 17 | attawapiskat\n",
      "City not found. Skipping...\n",
      "Processing Record 37 of Set 17 | leshukonskoye\n",
      "Processing Record 38 of Set 17 | ejea de los caballeros\n",
      "Processing Record 39 of Set 17 | balkanabat\n",
      "Processing Record 40 of Set 17 | poum\n",
      "Processing Record 41 of Set 17 | saint-francois\n",
      "Processing Record 42 of Set 17 | saint george\n",
      "Processing Record 43 of Set 17 | reus\n",
      "Processing Record 44 of Set 17 | rawalpindi\n",
      "Processing Record 45 of Set 17 | baijiantan\n",
      "Processing Record 46 of Set 17 | ancud\n",
      "Processing Record 47 of Set 17 | oruro\n",
      "Processing Record 48 of Set 17 | ostrovnoy\n",
      "Processing Record 49 of Set 17 | sao joao da barra\n",
      "Processing Record 50 of Set 17 | tasiilaq\n",
      "Processing Record 1 of Set 18 | imeni poliny osipenko\n",
      "Processing Record 2 of Set 18 | bandarbeyla\n",
      "Processing Record 3 of Set 18 | semnan\n",
      "Processing Record 4 of Set 18 | deputatskiy\n",
      "Processing Record 5 of Set 18 | fairbanks\n",
      "Processing Record 6 of Set 18 | shangqiu\n",
      "Processing Record 7 of Set 18 | kamra\n",
      "Processing Record 8 of Set 18 | panguna\n",
      "Processing Record 9 of Set 18 | esperance\n",
      "Processing Record 10 of Set 18 | khatanga\n",
      "Processing Record 11 of Set 18 | dikson\n",
      "Processing Record 12 of Set 18 | krasnoselkup\n",
      "Processing Record 13 of Set 18 | thunder bay\n",
      "Processing Record 14 of Set 18 | saskylakh\n",
      "Processing Record 15 of Set 18 | lazaro cardenas\n",
      "Processing Record 16 of Set 18 | matveyevka\n",
      "Processing Record 17 of Set 18 | havelock\n",
      "Processing Record 18 of Set 18 | port hawkesbury\n",
      "Processing Record 19 of Set 18 | kanye\n",
      "Processing Record 20 of Set 18 | adrar\n",
      "Processing Record 21 of Set 18 | muncar\n",
      "Processing Record 22 of Set 18 | port blair\n",
      "Processing Record 23 of Set 18 | acapulco\n",
      "Processing Record 24 of Set 18 | amderma\n",
      "City not found. Skipping...\n",
      "Processing Record 25 of Set 18 | palauig\n",
      "Processing Record 26 of Set 18 | cabo san lucas\n",
      "Processing Record 27 of Set 18 | marcona\n",
      "City not found. Skipping...\n",
      "Processing Record 28 of Set 18 | talnakh\n",
      "Processing Record 29 of Set 18 | colac\n",
      "Processing Record 30 of Set 18 | nanortalik\n",
      "Processing Record 31 of Set 18 | itamaraca\n",
      "Processing Record 32 of Set 18 | mahebourg\n",
      "Processing Record 33 of Set 18 | bethel\n"
     ]
    },
    {
     "name": "stdout",
     "output_type": "stream",
     "text": [
      "Processing Record 34 of Set 18 | hamilton\n",
      "Processing Record 35 of Set 18 | broome\n",
      "Processing Record 36 of Set 18 | port hardy\n",
      "Processing Record 37 of Set 18 | kaspiyskiy\n",
      "Processing Record 38 of Set 18 | jan kempdorp\n",
      "Processing Record 39 of Set 18 | flinders\n",
      "Processing Record 40 of Set 18 | marzuq\n",
      "Processing Record 41 of Set 18 | sioux lookout\n",
      "Processing Record 42 of Set 18 | praia da vitoria\n",
      "Processing Record 43 of Set 18 | umzimvubu\n",
      "City not found. Skipping...\n",
      "Processing Record 44 of Set 18 | kokopo\n",
      "Processing Record 45 of Set 18 | gornyy\n",
      "Processing Record 46 of Set 18 | mar del plata\n",
      "Processing Record 47 of Set 18 | nabire\n",
      "Processing Record 48 of Set 18 | sitka\n",
      "Processing Record 49 of Set 18 | kosh-agach\n",
      "Processing Record 50 of Set 18 | belushya guba\n",
      "City not found. Skipping...\n",
      "Processing Record 1 of Set 19 | saldanha\n",
      "Processing Record 2 of Set 19 | chuy\n",
      "Processing Record 3 of Set 19 | magadan\n",
      "Processing Record 4 of Set 19 | preeceville\n",
      "Processing Record 5 of Set 19 | nyurba\n",
      "Processing Record 6 of Set 19 | sentyabrskiy\n",
      "City not found. Skipping...\n",
      "Processing Record 7 of Set 19 | longlac\n",
      "City not found. Skipping...\n",
      "Processing Record 8 of Set 19 | alta floresta\n",
      "Processing Record 9 of Set 19 | ahipara\n",
      "Processing Record 10 of Set 19 | namibe\n",
      "Processing Record 11 of Set 19 | jinchang\n",
      "Processing Record 12 of Set 19 | bredasdorp\n",
      "Processing Record 13 of Set 19 | lompoc\n",
      "Processing Record 14 of Set 19 | vestmannaeyjar\n",
      "Processing Record 15 of Set 19 | khovu-aksy\n",
      "Processing Record 16 of Set 19 | caravelas\n",
      "Processing Record 17 of Set 19 | san ramon\n",
      "Processing Record 18 of Set 19 | grand gaube\n",
      "Processing Record 19 of Set 19 | fuyu\n",
      "Processing Record 20 of Set 19 | kasempa\n",
      "Processing Record 21 of Set 19 | east london\n",
      "Processing Record 22 of Set 19 | kangaatsiaq\n",
      "Processing Record 23 of Set 19 | wanning\n",
      "Processing Record 24 of Set 19 | nhulunbuy\n",
      "Processing Record 25 of Set 19 | chancay\n",
      "Processing Record 26 of Set 19 | hambantota\n",
      "Processing Record 27 of Set 19 | thompson\n",
      "Processing Record 28 of Set 19 | novyy urengoy\n",
      "Processing Record 29 of Set 19 | ibra\n",
      "Processing Record 30 of Set 19 | celestun\n",
      "Processing Record 31 of Set 19 | bambous virieux\n",
      "Processing Record 32 of Set 19 | husavik\n",
      "Processing Record 33 of Set 19 | maralal\n",
      "Processing Record 34 of Set 19 | houma\n",
      "Processing Record 35 of Set 19 | srednekolymsk\n",
      "Processing Record 36 of Set 19 | ngukurr\n",
      "City not found. Skipping...\n",
      "Processing Record 37 of Set 19 | balykshi\n",
      "Processing Record 38 of Set 19 | fez\n",
      "Processing Record 39 of Set 19 | bacong\n",
      "Processing Record 40 of Set 19 | mus\n",
      "Processing Record 41 of Set 19 | mount isa\n",
      "Processing Record 42 of Set 19 | kaitangata\n",
      "Processing Record 43 of Set 19 | winslow\n",
      "Processing Record 44 of Set 19 | grahamstown\n",
      "Processing Record 45 of Set 19 | ciudad del maiz\n",
      "Processing Record 46 of Set 19 | pevek\n",
      "Processing Record 47 of Set 19 | ilulissat\n",
      "Processing Record 48 of Set 19 | mys shmidta\n",
      "City not found. Skipping...\n",
      "Processing Record 49 of Set 19 | patancheru\n",
      "Processing Record 50 of Set 19 | turayf\n",
      "Processing Record 1 of Set 20 | tuatapere\n",
      "Processing Record 2 of Set 20 | huazolotitlan\n",
      "City not found. Skipping...\n",
      "Processing Record 3 of Set 20 | tpig\n",
      "Processing Record 4 of Set 20 | altamira\n",
      "Processing Record 5 of Set 20 | sorland\n",
      "Processing Record 6 of Set 20 | creel\n",
      "Processing Record 7 of Set 20 | moses lake\n",
      "Processing Record 8 of Set 20 | chandbali\n",
      "Processing Record 9 of Set 20 | bengkulu\n",
      "Processing Record 10 of Set 20 | northam\n",
      "Processing Record 11 of Set 20 | raga\n",
      "Processing Record 12 of Set 20 | jaciara\n",
      "Processing Record 13 of Set 20 | carutapera\n",
      "Processing Record 14 of Set 20 | okhotsk\n",
      "Processing Record 15 of Set 20 | ushtobe\n",
      "Processing Record 16 of Set 20 | college\n",
      "Processing Record 17 of Set 20 | salalah\n",
      "Processing Record 18 of Set 20 | corrente\n",
      "Processing Record 19 of Set 20 | san jeronimo\n",
      "Processing Record 20 of Set 20 | port hedland\n",
      "Processing Record 21 of Set 20 | vung tau\n",
      "Processing Record 22 of Set 20 | chanute\n",
      "Processing Record 23 of Set 20 | hue\n",
      "Processing Record 24 of Set 20 | saleaula\n",
      "City not found. Skipping...\n",
      "Processing Record 25 of Set 20 | kaeo\n",
      "Processing Record 26 of Set 20 | luderitz\n",
      "Processing Record 27 of Set 20 | agha jari\n",
      "City not found. Skipping...\n",
      "Processing Record 28 of Set 20 | asau\n",
      "Processing Record 29 of Set 20 | taoudenni\n",
      "Processing Record 30 of Set 20 | isangel\n",
      "Processing Record 31 of Set 20 | sinjar\n",
      "Processing Record 32 of Set 20 | karpathos\n",
      "Processing Record 33 of Set 20 | plaster rock\n",
      "Processing Record 34 of Set 20 | denpasar\n",
      "Processing Record 35 of Set 20 | arak\n",
      "Processing Record 36 of Set 20 | gubkinskiy\n",
      "Processing Record 37 of Set 20 | severo-kurilsk\n",
      "Processing Record 38 of Set 20 | agadir\n",
      "Processing Record 39 of Set 20 | broken hill\n",
      "Processing Record 40 of Set 20 | jasper\n",
      "Processing Record 41 of Set 20 | plettenberg bay\n",
      "Processing Record 42 of Set 20 | sept-iles\n",
      "Processing Record 43 of Set 20 | safwah\n",
      "City not found. Skipping...\n",
      "Processing Record 44 of Set 20 | gallup\n",
      "Processing Record 45 of Set 20 | shu\n",
      "Processing Record 46 of Set 20 | morro bay\n",
      "Processing Record 47 of Set 20 | mochicahui\n",
      "Processing Record 48 of Set 20 | machico\n",
      "Processing Record 49 of Set 20 | kidal\n",
      "Processing Record 50 of Set 20 | san quintin\n",
      "Processing Record 1 of Set 21 | neiafu\n",
      "Processing Record 2 of Set 21 | saint-jean-de-maurienne\n",
      "Processing Record 3 of Set 21 | boca do acre\n",
      "Processing Record 4 of Set 21 | salunayan\n",
      "Processing Record 5 of Set 21 | san patricio\n",
      "Processing Record 6 of Set 21 | rocha\n",
      "Processing Record 7 of Set 21 | sechura\n",
      "Processing Record 8 of Set 21 | guajara-mirim\n",
      "City not found. Skipping...\n",
      "Processing Record 9 of Set 21 | karkaralinsk\n",
      "City not found. Skipping...\n",
      "Processing Record 10 of Set 21 | san pedro\n",
      "Processing Record 11 of Set 21 | hami\n",
      "Processing Record 12 of Set 21 | ponta do sol\n",
      "Processing Record 13 of Set 21 | macamic\n",
      "Processing Record 14 of Set 21 | yulara\n",
      "Processing Record 15 of Set 21 | floirac\n",
      "Processing Record 16 of Set 21 | haines junction\n",
      "Processing Record 17 of Set 21 | ukiah\n",
      "Processing Record 18 of Set 21 | xining\n",
      "Processing Record 19 of Set 21 | chegdomyn\n",
      "Processing Record 20 of Set 21 | tiznit\n",
      "Processing Record 21 of Set 21 | namatanai\n",
      "Processing Record 22 of Set 21 | mayumba\n",
      "Processing Record 23 of Set 21 | rabo de peixe\n",
      "Processing Record 24 of Set 21 | dingle\n",
      "Processing Record 25 of Set 21 | andros town\n",
      "Processing Record 26 of Set 21 | emba\n",
      "Processing Record 27 of Set 21 | geraldton\n",
      "Processing Record 28 of Set 21 | buala\n",
      "Processing Record 29 of Set 21 | santa catarina de tepehuanes\n",
      "Processing Record 30 of Set 21 | lebanon\n",
      "Processing Record 31 of Set 21 | camacha\n",
      "Processing Record 32 of Set 21 | nouadhibou\n",
      "Processing Record 33 of Set 21 | nenjiang\n",
      "Processing Record 34 of Set 21 | vostok\n",
      "Processing Record 35 of Set 21 | claresholm\n",
      "Processing Record 36 of Set 21 | san cristobal\n",
      "Processing Record 37 of Set 21 | olafsvik\n",
      "Processing Record 38 of Set 21 | vila franca do campo\n",
      "Processing Record 39 of Set 21 | necochea\n",
      "Processing Record 40 of Set 21 | mountain home\n",
      "Processing Record 41 of Set 21 | bucerias\n",
      "Processing Record 42 of Set 21 | george\n",
      "Processing Record 43 of Set 21 | kupang\n",
      "Processing Record 44 of Set 21 | coquimbo\n",
      "Processing Record 45 of Set 21 | chokurdakh\n",
      "Processing Record 46 of Set 21 | la ronge\n",
      "Processing Record 47 of Set 21 | bardsir\n",
      "Processing Record 48 of Set 21 | hihifo\n",
      "City not found. Skipping...\n",
      "Processing Record 49 of Set 21 | axixa do tocantins\n",
      "City not found. Skipping...\n",
      "Processing Record 50 of Set 21 | port lincoln\n",
      "Processing Record 1 of Set 22 | jablah\n",
      "Processing Record 2 of Set 22 | te anau\n",
      "Processing Record 3 of Set 22 | tessalit\n",
      "Processing Record 4 of Set 22 | tsihombe\n",
      "City not found. Skipping...\n",
      "Processing Record 5 of Set 22 | mollendo\n",
      "Processing Record 6 of Set 22 | bambanglipuro\n",
      "Processing Record 7 of Set 22 | victoria\n",
      "Processing Record 8 of Set 22 | barcelona\n",
      "Processing Record 9 of Set 22 | moose factory\n",
      "Processing Record 10 of Set 22 | north platte\n",
      "Processing Record 11 of Set 22 | salaspils\n",
      "Processing Record 12 of Set 22 | syracuse\n",
      "Processing Record 13 of Set 22 | baramati\n",
      "Processing Record 14 of Set 22 | bowen\n",
      "Processing Record 15 of Set 22 | achisay\n",
      "City not found. Skipping...\n",
      "Processing Record 16 of Set 22 | henties bay\n"
     ]
    },
    {
     "name": "stdout",
     "output_type": "stream",
     "text": [
      "Processing Record 17 of Set 22 | orange\n",
      "Processing Record 18 of Set 22 | tiksi\n",
      "Processing Record 19 of Set 22 | metehara\n",
      "City not found. Skipping...\n",
      "Processing Record 20 of Set 22 | mufulira\n",
      "Processing Record 21 of Set 22 | grand centre\n",
      "City not found. Skipping...\n",
      "Processing Record 22 of Set 22 | itzincab\n",
      "City not found. Skipping...\n",
      "Processing Record 23 of Set 22 | oranjemund\n",
      "Processing Record 24 of Set 22 | nantucket\n",
      "Processing Record 25 of Set 22 | pangoa\n",
      "Processing Record 26 of Set 22 | komsomolskiy\n",
      "Processing Record 27 of Set 22 | farafangana\n",
      "Processing Record 28 of Set 22 | iberia\n",
      "Processing Record 29 of Set 22 | cap malheureux\n",
      "Processing Record 30 of Set 22 | kapoeta\n",
      "Processing Record 31 of Set 22 | karakendzha\n",
      "City not found. Skipping...\n",
      "Processing Record 32 of Set 22 | baglung\n",
      "Processing Record 33 of Set 22 | ola\n",
      "Processing Record 34 of Set 22 | chifeng\n",
      "Processing Record 35 of Set 22 | hovd\n",
      "Processing Record 36 of Set 22 | nanchang\n",
      "Processing Record 37 of Set 22 | surt\n",
      "Processing Record 38 of Set 22 | stephenville\n",
      "Processing Record 39 of Set 22 | hawera\n",
      "Processing Record 40 of Set 22 | heinola\n",
      "Processing Record 41 of Set 22 | kyabe\n",
      "Processing Record 42 of Set 22 | cayenne\n",
      "Processing Record 43 of Set 22 | zaysan\n",
      "Processing Record 44 of Set 22 | erzin\n",
      "Processing Record 45 of Set 22 | saint-pierre\n",
      "Processing Record 46 of Set 22 | fort saint james\n",
      "Processing Record 47 of Set 22 | kolkwitz\n",
      "Processing Record 48 of Set 22 | goderich\n",
      "Processing Record 49 of Set 22 | ngunguru\n",
      "Processing Record 50 of Set 22 | krasnyy chikoy\n",
      "Processing Record 1 of Set 23 | marsh harbour\n",
      "Processing Record 2 of Set 23 | canberra\n",
      "Processing Record 3 of Set 23 | westport\n",
      "Processing Record 4 of Set 23 | vao\n",
      "Processing Record 5 of Set 23 | zhovti vody\n",
      "Processing Record 6 of Set 23 | sorong\n",
      "Processing Record 7 of Set 23 | soyo\n",
      "Processing Record 8 of Set 23 | lagoa\n",
      "Processing Record 9 of Set 23 | padang\n",
      "Processing Record 10 of Set 23 | palmer\n",
      "Processing Record 11 of Set 23 | coihaique\n",
      "Processing Record 12 of Set 23 | dalvik\n",
      "Processing Record 13 of Set 23 | machacamarca\n",
      "Processing Record 14 of Set 23 | salta\n",
      "Processing Record 15 of Set 23 | hay river\n",
      "Processing Record 16 of Set 23 | sangar\n",
      "Processing Record 17 of Set 23 | clyde river\n",
      "Processing Record 18 of Set 23 | nizhneyansk\n",
      "City not found. Skipping...\n",
      "Processing Record 19 of Set 23 | khonuu\n",
      "City not found. Skipping...\n",
      "Processing Record 20 of Set 23 | anan\n",
      "Processing Record 21 of Set 23 | shimoda\n",
      "Processing Record 22 of Set 23 | kousseri\n",
      "Processing Record 23 of Set 23 | pascagoula\n",
      "Processing Record 24 of Set 23 | mitsamiouli\n",
      "Processing Record 25 of Set 23 | alotau\n",
      "City not found. Skipping...\n",
      "Processing Record 26 of Set 23 | izumo\n",
      "Processing Record 27 of Set 23 | barranquilla\n",
      "Processing Record 28 of Set 23 | tautira\n",
      "Processing Record 29 of Set 23 | mirabad\n",
      "Processing Record 30 of Set 23 | thanh hoa\n",
      "Processing Record 31 of Set 23 | avera\n",
      "Processing Record 32 of Set 23 | ulladulla\n",
      "Processing Record 33 of Set 23 | luanda\n",
      "Processing Record 34 of Set 23 | cidreira\n",
      "Processing Record 35 of Set 23 | jelgava\n",
      "Processing Record 36 of Set 23 | lerwick\n",
      "Processing Record 37 of Set 23 | lethem\n",
      "Processing Record 38 of Set 23 | teknaf\n",
      "Processing Record 39 of Set 23 | buldana\n",
      "Processing Record 40 of Set 23 | margate\n",
      "Processing Record 41 of Set 23 | butterworth\n",
      "Processing Record 42 of Set 23 | potma\n",
      "City not found. Skipping...\n",
      "Processing Record 43 of Set 23 | champerico\n",
      "Processing Record 44 of Set 23 | berlevag\n",
      "Processing Record 45 of Set 23 | marihatag\n",
      "Processing Record 46 of Set 23 | dalbandin\n",
      "Processing Record 47 of Set 23 | tabiauea\n",
      "City not found. Skipping...\n",
      "Processing Record 48 of Set 23 | kotka\n",
      "Processing Record 49 of Set 23 | ozinki\n",
      "Processing Record 50 of Set 23 | sri aman\n",
      "Processing Record 1 of Set 24 | kushima\n",
      "Processing Record 2 of Set 24 | bull savanna\n",
      "Processing Record 3 of Set 24 | balfour\n",
      "Processing Record 4 of Set 24 | monrovia\n",
      "Processing Record 5 of Set 24 | mount gambier\n",
      "Processing Record 6 of Set 24 | burns lake\n",
      "Processing Record 7 of Set 24 | artyk\n",
      "City not found. Skipping...\n",
      "Processing Record 8 of Set 24 | puerto escondido\n",
      "Processing Record 9 of Set 24 | araouane\n",
      "Processing Record 10 of Set 24 | miyazu\n",
      "Processing Record 11 of Set 24 | kitgum\n",
      "Processing Record 12 of Set 24 | katete\n",
      "Processing Record 13 of Set 24 | touros\n",
      "Processing Record 14 of Set 24 | camacupa\n",
      "Processing Record 15 of Set 24 | leningradskiy\n",
      "Processing Record 16 of Set 24 | kailua\n",
      "Processing Record 17 of Set 24 | morehead\n",
      "Processing Record 18 of Set 24 | boysun\n",
      "Processing Record 19 of Set 24 | puerto leguizamo\n",
      "Processing Record 20 of Set 24 | kanata\n",
      "Processing Record 21 of Set 24 | agua verde\n",
      "Processing Record 22 of Set 24 | high level\n",
      "Processing Record 23 of Set 24 | nguruka\n",
      "Processing Record 24 of Set 24 | verkhoyansk\n",
      "Processing Record 25 of Set 24 | anadyr\n",
      "Processing Record 26 of Set 24 | teguldet\n",
      "Processing Record 27 of Set 24 | naryan-mar\n",
      "Processing Record 28 of Set 24 | douglas\n",
      "Processing Record 29 of Set 24 | maghama\n",
      "City not found. Skipping...\n",
      "Processing Record 30 of Set 24 | vaitape\n",
      "Processing Record 31 of Set 24 | amazar\n",
      "Processing Record 32 of Set 24 | billings\n",
      "Processing Record 33 of Set 24 | jahrom\n",
      "City not found. Skipping...\n",
      "Processing Record 34 of Set 24 | conceicao do araguaia\n",
      "Processing Record 35 of Set 24 | leghorn\n",
      "City not found. Skipping...\n",
      "Processing Record 36 of Set 24 | winchester\n",
      "Processing Record 37 of Set 24 | panlaitan\n",
      "Processing Record 38 of Set 24 | carballo\n",
      "Processing Record 39 of Set 24 | harper\n",
      "Processing Record 40 of Set 24 | ruwi\n",
      "Processing Record 41 of Set 24 | gondanglegi\n",
      "Processing Record 42 of Set 24 | tsabong\n",
      "Processing Record 43 of Set 24 | faya\n",
      "Processing Record 44 of Set 24 | nkhotakota\n",
      "Processing Record 45 of Set 24 | edmundston\n",
      "Processing Record 46 of Set 24 | gizo\n",
      "Processing Record 47 of Set 24 | kavieng\n",
      "Processing Record 48 of Set 24 | burica\n",
      "City not found. Skipping...\n",
      "Processing Record 49 of Set 24 | bara\n",
      "Processing Record 50 of Set 24 | north bend\n",
      "Processing Record 1 of Set 25 | coahuayana\n",
      "Processing Record 2 of Set 25 | lorengau\n",
      "Processing Record 3 of Set 25 | darhan\n",
      "Processing Record 4 of Set 25 | pundaguitan\n",
      "Processing Record 5 of Set 25 | bubaque\n",
      "Processing Record 6 of Set 25 | bathsheba\n",
      "Processing Record 7 of Set 25 | port victoria\n",
      "Processing Record 8 of Set 25 | copiapo\n",
      "Processing Record 9 of Set 25 | axim\n",
      "Processing Record 10 of Set 25 | ternate\n",
      "Processing Record 11 of Set 25 | buchanan\n",
      "Processing Record 12 of Set 25 | hunza\n",
      "City not found. Skipping...\n",
      "Processing Record 13 of Set 25 | thinadhoo\n",
      "Processing Record 14 of Set 25 | tiarei\n",
      "Processing Record 15 of Set 25 | huntingdon\n",
      "Processing Record 16 of Set 25 | venezuela\n",
      "Processing Record 17 of Set 25 | korla\n",
      "Processing Record 18 of Set 25 | lieksa\n",
      "Processing Record 19 of Set 25 | kichera\n",
      "Processing Record 20 of Set 25 | honiara\n",
      "Processing Record 21 of Set 25 | xai-xai\n",
      "Processing Record 22 of Set 25 | kadykchan\n",
      "City not found. Skipping...\n",
      "Processing Record 23 of Set 25 | requena\n",
      "Processing Record 24 of Set 25 | fort nelson\n",
      "Processing Record 25 of Set 25 | pangkalanbuun\n",
      "Processing Record 26 of Set 25 | chicontepec\n",
      "Processing Record 27 of Set 25 | lebu\n",
      "Processing Record 28 of Set 25 | usinsk\n",
      "Processing Record 29 of Set 25 | anloga\n",
      "Processing Record 30 of Set 25 | baykit\n",
      "Processing Record 31 of Set 25 | abnub\n",
      "Processing Record 32 of Set 25 | vestmanna\n",
      "Processing Record 33 of Set 25 | constitucion\n",
      "Processing Record 34 of Set 25 | cockburn town\n",
      "Processing Record 35 of Set 25 | sihora\n",
      "Processing Record 36 of Set 25 | gat\n",
      "Processing Record 37 of Set 25 | nemuro\n",
      "Processing Record 38 of Set 25 | ati\n",
      "Processing Record 39 of Set 25 | post falls\n",
      "Processing Record 40 of Set 25 | yerbogachen\n",
      "Processing Record 41 of Set 25 | gimli\n",
      "Processing Record 42 of Set 25 | panama city\n",
      "Processing Record 43 of Set 25 | aklavik\n",
      "Processing Record 44 of Set 25 | noyabrsk\n",
      "Processing Record 45 of Set 25 | laguna\n",
      "Processing Record 46 of Set 25 | biltine\n",
      "Processing Record 47 of Set 25 | altay\n",
      "Processing Record 48 of Set 25 | tocopilla\n",
      "Processing Record 49 of Set 25 | den helder\n",
      "Processing Record 50 of Set 25 | murmashi\n",
      "Processing Record 1 of Set 26 | prince rupert\n",
      "Processing Record 2 of Set 26 | havre-saint-pierre\n"
     ]
    },
    {
     "name": "stdout",
     "output_type": "stream",
     "text": [
      "Processing Record 3 of Set 26 | mahibadhoo\n",
      "Processing Record 4 of Set 26 | pitlochry\n",
      "Processing Record 5 of Set 26 | miri\n",
      "Processing Record 6 of Set 26 | takoradi\n",
      "Processing Record 7 of Set 26 | fort saint john\n",
      "City not found. Skipping...\n",
      "Processing Record 8 of Set 26 | capusu mare\n",
      "Processing Record 9 of Set 26 | zimmi\n",
      "Processing Record 10 of Set 26 | saint-augustin\n",
      "Processing Record 11 of Set 26 | balkhash\n",
      "Processing Record 12 of Set 26 | puerto baquerizo moreno\n",
      "Processing Record 13 of Set 26 | honningsvag\n",
      "Processing Record 14 of Set 26 | saint-joseph\n",
      "Processing Record 15 of Set 26 | jining\n",
      "Processing Record 16 of Set 26 | lavrentiya\n",
      "Processing Record 17 of Set 26 | kursenai\n",
      "Processing Record 18 of Set 26 | nalut\n",
      "Processing Record 19 of Set 26 | casino\n",
      "Processing Record 20 of Set 26 | pangnirtung\n",
      "Processing Record 21 of Set 26 | itaituba\n",
      "Processing Record 22 of Set 26 | seoul\n",
      "Processing Record 23 of Set 26 | grindavik\n",
      "Processing Record 24 of Set 26 | kropotkin\n",
      "Processing Record 25 of Set 26 | oyama\n",
      "Processing Record 26 of Set 26 | peterhead\n",
      "Processing Record 27 of Set 26 | maningrida\n",
      "Processing Record 28 of Set 26 | oktyabrskoye\n",
      "Processing Record 29 of Set 26 | robat karim\n",
      "Processing Record 30 of Set 26 | khandyga\n",
      "Processing Record 31 of Set 26 | marienburg\n",
      "Processing Record 32 of Set 26 | diapaga\n",
      "Processing Record 33 of Set 26 | zyryanka\n",
      "Processing Record 34 of Set 26 | bandipur\n",
      "Processing Record 35 of Set 26 | paso del macho\n",
      "Processing Record 36 of Set 26 | marystown\n",
      "Processing Record 37 of Set 26 | miramar\n",
      "Processing Record 38 of Set 26 | soligalich\n",
      "Processing Record 39 of Set 26 | pittsburg\n",
      "Processing Record 40 of Set 26 | sawtell\n",
      "Processing Record 41 of Set 26 | rawson\n",
      "Processing Record 42 of Set 26 | dudinka\n",
      "Processing Record 43 of Set 26 | quang ngai\n",
      "Processing Record 44 of Set 26 | hachinohe\n",
      "Processing Record 45 of Set 26 | dovolnoye\n",
      "Processing Record 46 of Set 26 | clarence town\n",
      "Processing Record 47 of Set 26 | ialibu\n",
      "Processing Record 48 of Set 26 | ullapool\n",
      "Processing Record 49 of Set 26 | matara\n",
      "Processing Record 50 of Set 26 | humberto de campos\n",
      "Processing Record 1 of Set 27 | oussouye\n",
      "Processing Record 2 of Set 27 | olinda\n",
      "Processing Record 3 of Set 27 | kieta\n",
      "Processing Record 4 of Set 27 | aviles\n",
      "Processing Record 5 of Set 27 | elk point\n",
      "Processing Record 6 of Set 27 | zakamensk\n",
      "Processing Record 7 of Set 27 | preobrazheniye\n",
      "Processing Record 8 of Set 27 | sataua\n",
      "City not found. Skipping...\n",
      "Processing Record 9 of Set 27 | segezha\n",
      "Processing Record 10 of Set 27 | upata\n",
      "Processing Record 11 of Set 27 | yermakovskoye\n",
      "Processing Record 12 of Set 27 | usak\n",
      "Processing Record 13 of Set 27 | borba\n",
      "Processing Record 14 of Set 27 | chagda\n",
      "City not found. Skipping...\n",
      "Processing Record 15 of Set 27 | tecoanapa\n",
      "Processing Record 16 of Set 27 | richards bay\n",
      "Processing Record 17 of Set 27 | tulun\n",
      "Processing Record 18 of Set 27 | fare\n",
      "Processing Record 19 of Set 27 | estelle\n",
      "Processing Record 20 of Set 27 | fort-shevchenko\n",
      "Processing Record 21 of Set 27 | manacapuru\n",
      "Processing Record 22 of Set 27 | cruzeiro do oeste\n",
      "Processing Record 23 of Set 27 | grand-santi\n",
      "Processing Record 24 of Set 27 | tabou\n",
      "Processing Record 25 of Set 27 | wasilla\n",
      "Processing Record 26 of Set 27 | gualeguay\n",
      "Processing Record 27 of Set 27 | kruisfontein\n",
      "Processing Record 28 of Set 27 | aitape\n",
      "Processing Record 29 of Set 27 | varska\n",
      "City not found. Skipping...\n",
      "Processing Record 30 of Set 27 | pirgos\n",
      "Processing Record 31 of Set 27 | sola\n",
      "Processing Record 32 of Set 27 | gustrow\n",
      "Processing Record 33 of Set 27 | bose\n",
      "Processing Record 34 of Set 27 | paceco\n",
      "Processing Record 35 of Set 27 | sakakah\n",
      "Processing Record 36 of Set 27 | vilyuysk\n",
      "Processing Record 37 of Set 27 | kavaratti\n",
      "Processing Record 38 of Set 27 | anisoc\n",
      "Processing Record 39 of Set 27 | shar\n",
      "Processing Record 40 of Set 27 | alofi\n",
      "Processing Record 41 of Set 27 | yenagoa\n",
      "Processing Record 42 of Set 27 | joshimath\n",
      "Processing Record 43 of Set 27 | gazni\n",
      "City not found. Skipping...\n",
      "Processing Record 44 of Set 27 | olga\n",
      "Processing Record 45 of Set 27 | lewistown\n",
      "Processing Record 46 of Set 27 | kurilsk\n",
      "Processing Record 47 of Set 27 | turochak\n",
      "Processing Record 48 of Set 27 | kralendijk\n",
      "Processing Record 49 of Set 27 | tutoia\n",
      "Processing Record 50 of Set 27 | kuntaur\n",
      "Processing Record 1 of Set 28 | poso\n",
      "Processing Record 2 of Set 28 | arequipa\n",
      "Processing Record 3 of Set 28 | simbahan\n",
      "Processing Record 4 of Set 28 | pisco\n",
      "Processing Record 5 of Set 28 | saint anthony\n",
      "Processing Record 6 of Set 28 | voh\n",
      "Processing Record 7 of Set 28 | rantepao\n",
      "Processing Record 8 of Set 28 | junagarh\n",
      "Processing Record 9 of Set 28 | garowe\n",
      "Processing Record 10 of Set 28 | kencong\n",
      "Processing Record 11 of Set 28 | port said\n",
      "Processing Record 12 of Set 28 | taylorville\n",
      "Processing Record 13 of Set 28 | celendin\n",
      "Processing Record 14 of Set 28 | dunedin\n",
      "Processing Record 15 of Set 28 | tura\n",
      "Processing Record 16 of Set 28 | aflu\n",
      "City not found. Skipping...\n",
      "Processing Record 17 of Set 28 | pokhara\n",
      "Processing Record 18 of Set 28 | quatre cocos\n",
      "Processing Record 19 of Set 28 | miandrivazo\n",
      "Processing Record 20 of Set 28 | narrabri\n",
      "Processing Record 21 of Set 28 | omboue\n",
      "Processing Record 22 of Set 28 | smolenka\n",
      "Processing Record 23 of Set 28 | belomorsk\n",
      "Processing Record 24 of Set 28 | opuwo\n",
      "Processing Record 25 of Set 28 | kautokeino\n",
      "Processing Record 26 of Set 28 | ust-ishim\n",
      "Processing Record 27 of Set 28 | iralaya\n",
      "Processing Record 28 of Set 28 | mandalgovi\n",
      "Processing Record 29 of Set 28 | serenje\n",
      "Processing Record 30 of Set 28 | hauterive\n",
      "Processing Record 31 of Set 28 | gornopravdinsk\n",
      "Processing Record 32 of Set 28 | presidencia roque saenz pena\n",
      "Processing Record 33 of Set 28 | port moresby\n",
      "Processing Record 34 of Set 28 | solnechnyy\n",
      "Processing Record 35 of Set 28 | pacific grove\n",
      "Processing Record 36 of Set 28 | kambove\n",
      "Processing Record 37 of Set 28 | abu dhabi\n",
      "Processing Record 38 of Set 28 | half moon bay\n",
      "Processing Record 39 of Set 28 | biak\n",
      "Processing Record 40 of Set 28 | vilhena\n",
      "Processing Record 41 of Set 28 | waingapu\n",
      "Processing Record 42 of Set 28 | darnah\n",
      "Processing Record 43 of Set 28 | masyaf\n",
      "Processing Record 44 of Set 28 | derzhavinsk\n",
      "Processing Record 45 of Set 28 | cotusca\n",
      "Processing Record 46 of Set 28 | soledade\n",
      "Processing Record 47 of Set 28 | maarianhamina\n",
      "Processing Record 48 of Set 28 | dosso\n",
      "Processing Record 49 of Set 28 | benghazi\n",
      "Processing Record 50 of Set 28 | taseyevo\n",
      "Processing Record 1 of Set 29 | hammerfest\n",
      "Processing Record 2 of Set 29 | cocachacra\n",
      "Processing Record 3 of Set 29 | oudtshoorn\n",
      "Processing Record 4 of Set 29 | caruray\n",
      "Processing Record 5 of Set 29 | yakeshi\n",
      "Processing Record 6 of Set 29 | newport\n",
      "Processing Record 7 of Set 29 | sinazongwe\n",
      "Processing Record 8 of Set 29 | anito\n",
      "Processing Record 9 of Set 29 | halifax\n",
      "Processing Record 10 of Set 29 | burnie\n",
      "Processing Record 11 of Set 29 | morondava\n",
      "Processing Record 12 of Set 29 | shelburne\n",
      "Processing Record 13 of Set 29 | palmerston north\n",
      "-------------------------\n",
      "Data Retrieval Complete  \n",
      "-------------------------\n"
     ]
    }
   ],
   "source": [
    "# create an empty list to hold the weather data\n",
    "city_data=[]\n",
    "\n",
    "#print the beginning of the logging\n",
    "print(\"Beginning Data Retrieval      \")\n",
    "print(\"------------------------------\")\n",
    "\n",
    "#create counters\n",
    "record_count=1\n",
    "set_count=1\n",
    "\n",
    "# loop through all the cities in our list\n",
    "for i in range(len(cities)):\n",
    "    \n",
    "    #group cities in sets of 50 for logging purposes\n",
    "    if (i % 50 ==0 and i>=50):\n",
    "        set_count+=1\n",
    "        record_count=1\n",
    "        time.sleep(60)\n",
    "        \n",
    "    #create endpoint url with each city\n",
    "    city_url=url+\"&q=\"+cities[i]\n",
    "    \n",
    "#loop through all the cities in the list\n",
    "for i, city in enumerate(cities):\n",
    "    #group cities in sets of 50 for logging purposes\n",
    "    if (i %50==0 and i>=50):\n",
    "        set_count+=1\n",
    "        record_count=1\n",
    "        time.sleep(15)\n",
    "        \n",
    "    #create endpoint url with each city\n",
    "    city_url=url+\"&q=\"+city.replace(\" \",\"+\")\n",
    "    \n",
    "    #log the url, record, and set numbers and the city\n",
    "    print(f\"Processing Record {record_count} of Set {set_count} | {city}\")\n",
    "    #add 1 to the record count\n",
    "    record_count+=1\n",
    "    \n",
    "#run and API request for each city\n",
    "    try:\n",
    "        #parse the json and retrieve data\n",
    "        city_weather=requests.get(city_url).json()\n",
    "        #parse out the needed data\n",
    "        city_lat=city_weather[\"coord\"][\"lat\"]\n",
    "        city_lng=city_weather[\"coord\"][\"lon\"]\n",
    "        city_max_temp=city_weather[\"main\"][\"temp_max\"]\n",
    "        city_humidity=city_weather[\"main\"][\"humidity\"]\n",
    "        city_clouds=city_weather[\"clouds\"][\"all\"]\n",
    "        city_wind=city_weather[\"wind\"][\"speed\"]\n",
    "        city_country=city_weather[\"sys\"][\"country\"]\n",
    "        #convert the date to iso standard\n",
    "        city_date=datetime.utcfromtimestamp(city_weather[\"dt\"]).strftime('%Y-%m-%d %H:%M:%S')\n",
    "        #append the city information\n",
    "        city_data.append({\"City\": city.title(),\n",
    "                         \"Lat\": city_lat,\n",
    "                         \"Lng\": city_lng,\n",
    "                         \"Max Temp\": city_max_temp,\n",
    "                         \"Humidity\": city_humidity,\n",
    "                         \"Cloudiness\": city_clouds,\n",
    "                         \"Wind Speed\": city_wind,\n",
    "                         \"Country\": city_country,\n",
    "                         \"Date\": city_date})\n",
    "        \n",
    "#if an error is experienced, skip the city\n",
    "    except:\n",
    "        print(\"City not found. Skipping...\")\n",
    "        pass\n",
    "    \n",
    "#indicate the data loading is complete\n",
    "print(\"-------------------------\")\n",
    "print(\"Data Retrieval Complete  \")\n",
    "print(\"-------------------------\")"
   ]
  },
  {
   "cell_type": "code",
   "execution_count": null,
   "id": "2800d9be",
   "metadata": {},
   "outputs": [],
   "source": []
  },
  {
   "cell_type": "code",
   "execution_count": 38,
   "id": "afe4b6e0",
   "metadata": {},
   "outputs": [
    {
     "data": {
      "text/html": [
       "<div>\n",
       "<style scoped>\n",
       "    .dataframe tbody tr th:only-of-type {\n",
       "        vertical-align: middle;\n",
       "    }\n",
       "\n",
       "    .dataframe tbody tr th {\n",
       "        vertical-align: top;\n",
       "    }\n",
       "\n",
       "    .dataframe thead th {\n",
       "        text-align: right;\n",
       "    }\n",
       "</style>\n",
       "<table border=\"1\" class=\"dataframe\">\n",
       "  <thead>\n",
       "    <tr style=\"text-align: right;\">\n",
       "      <th></th>\n",
       "      <th>City</th>\n",
       "      <th>Lat</th>\n",
       "      <th>Lng</th>\n",
       "      <th>Max Temp</th>\n",
       "      <th>Humidity</th>\n",
       "      <th>Cloudiness</th>\n",
       "      <th>Wind Speed</th>\n",
       "      <th>Country</th>\n",
       "      <th>Date</th>\n",
       "    </tr>\n",
       "  </thead>\n",
       "  <tbody>\n",
       "    <tr>\n",
       "      <th>0</th>\n",
       "      <td>Vila Velha</td>\n",
       "      <td>-20.3297</td>\n",
       "      <td>-40.2925</td>\n",
       "      <td>71.94</td>\n",
       "      <td>92</td>\n",
       "      <td>1</td>\n",
       "      <td>3.98</td>\n",
       "      <td>BR</td>\n",
       "      <td>2022-04-30 04:01:19</td>\n",
       "    </tr>\n",
       "    <tr>\n",
       "      <th>1</th>\n",
       "      <td>Chapais</td>\n",
       "      <td>49.7834</td>\n",
       "      <td>-74.8492</td>\n",
       "      <td>26.80</td>\n",
       "      <td>94</td>\n",
       "      <td>8</td>\n",
       "      <td>5.86</td>\n",
       "      <td>CA</td>\n",
       "      <td>2022-04-30 04:04:06</td>\n",
       "    </tr>\n",
       "    <tr>\n",
       "      <th>2</th>\n",
       "      <td>Kamenka</td>\n",
       "      <td>51.3223</td>\n",
       "      <td>42.7678</td>\n",
       "      <td>44.51</td>\n",
       "      <td>79</td>\n",
       "      <td>10</td>\n",
       "      <td>8.86</td>\n",
       "      <td>RU</td>\n",
       "      <td>2022-04-30 04:02:05</td>\n",
       "    </tr>\n",
       "    <tr>\n",
       "      <th>3</th>\n",
       "      <td>Port Elizabeth</td>\n",
       "      <td>-33.9180</td>\n",
       "      <td>25.5701</td>\n",
       "      <td>61.32</td>\n",
       "      <td>73</td>\n",
       "      <td>0</td>\n",
       "      <td>10.00</td>\n",
       "      <td>ZA</td>\n",
       "      <td>2022-04-30 03:59:17</td>\n",
       "    </tr>\n",
       "    <tr>\n",
       "      <th>4</th>\n",
       "      <td>Rikitea</td>\n",
       "      <td>-23.1203</td>\n",
       "      <td>-134.9692</td>\n",
       "      <td>77.13</td>\n",
       "      <td>68</td>\n",
       "      <td>100</td>\n",
       "      <td>16.15</td>\n",
       "      <td>PF</td>\n",
       "      <td>2022-04-30 04:04:06</td>\n",
       "    </tr>\n",
       "  </tbody>\n",
       "</table>\n",
       "</div>"
      ],
      "text/plain": [
       "             City      Lat       Lng  Max Temp  Humidity  Cloudiness  \\\n",
       "0      Vila Velha -20.3297  -40.2925     71.94        92           1   \n",
       "1         Chapais  49.7834  -74.8492     26.80        94           8   \n",
       "2         Kamenka  51.3223   42.7678     44.51        79          10   \n",
       "3  Port Elizabeth -33.9180   25.5701     61.32        73           0   \n",
       "4         Rikitea -23.1203 -134.9692     77.13        68         100   \n",
       "\n",
       "   Wind Speed Country                 Date  \n",
       "0        3.98      BR  2022-04-30 04:01:19  \n",
       "1        5.86      CA  2022-04-30 04:04:06  \n",
       "2        8.86      RU  2022-04-30 04:02:05  \n",
       "3       10.00      ZA  2022-04-30 03:59:17  \n",
       "4       16.15      PF  2022-04-30 04:04:06  "
      ]
     },
     "execution_count": 38,
     "metadata": {},
     "output_type": "execute_result"
    }
   ],
   "source": [
    "#add the data to a new dataframe\n",
    "city_data_df=pd.DataFrame(city_data)\n",
    "city_data_df.head()\n"
   ]
  },
  {
   "cell_type": "code",
   "execution_count": null,
   "id": "a03eea42",
   "metadata": {},
   "outputs": [],
   "source": []
  },
  {
   "cell_type": "code",
   "execution_count": null,
   "id": "ca53de71",
   "metadata": {},
   "outputs": [],
   "source": []
  },
  {
   "cell_type": "code",
   "execution_count": null,
   "id": "f3b3d031",
   "metadata": {},
   "outputs": [],
   "source": []
  },
  {
   "cell_type": "code",
   "execution_count": 45,
   "id": "8d7b9112",
   "metadata": {},
   "outputs": [],
   "source": [
    "#export to a csv named WeatherPy_Datavase.csv in the weather_database folder\n",
    "#create the output file (csv)\n",
    "output_data_file=\"WeatherPy_Database.csv\"\n",
    "\n",
    "#export the city_data into csv\n",
    "city_data_df.to_csv(output_data_file, index_label=\"City_ID\")"
   ]
  },
  {
   "cell_type": "code",
   "execution_count": null,
   "id": "a5689a70",
   "metadata": {},
   "outputs": [],
   "source": []
  }
 ],
 "metadata": {
  "kernelspec": {
   "display_name": "PythonData",
   "language": "python",
   "name": "pythondata"
  },
  "language_info": {
   "codemirror_mode": {
    "name": "ipython",
    "version": 3
   },
   "file_extension": ".py",
   "mimetype": "text/x-python",
   "name": "python",
   "nbconvert_exporter": "python",
   "pygments_lexer": "ipython3",
   "version": "3.7.11"
  }
 },
 "nbformat": 4,
 "nbformat_minor": 5
}
