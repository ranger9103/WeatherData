{
 "cells": [
  {
   "cell_type": "markdown",
   "metadata": {},
   "source": [
    "## Deliverable 3. Create a Travel Itinerary Map."
   ]
  },
  {
   "cell_type": "code",
   "execution_count": 1,
   "metadata": {},
   "outputs": [],
   "source": [
    "# Dependencies and Setup\n",
    "import pandas as pd\n",
    "import requests\n",
    "import gmaps\n",
    "\n",
    "# Import API key\n",
    "from config import g_key\n",
    "\n",
    "# Configure gmaps\n",
    "gmaps.configure(api_key=g_key)"
   ]
  },
  {
   "cell_type": "code",
   "execution_count": 3,
   "metadata": {},
   "outputs": [
    {
     "data": {
      "text/html": [
       "<div>\n",
       "<style scoped>\n",
       "    .dataframe tbody tr th:only-of-type {\n",
       "        vertical-align: middle;\n",
       "    }\n",
       "\n",
       "    .dataframe tbody tr th {\n",
       "        vertical-align: top;\n",
       "    }\n",
       "\n",
       "    .dataframe thead th {\n",
       "        text-align: right;\n",
       "    }\n",
       "</style>\n",
       "<table border=\"1\" class=\"dataframe\">\n",
       "  <thead>\n",
       "    <tr style=\"text-align: right;\">\n",
       "      <th></th>\n",
       "      <th>City_ID</th>\n",
       "      <th>City</th>\n",
       "      <th>Country</th>\n",
       "      <th>Max Temp</th>\n",
       "      <th>Current Description</th>\n",
       "      <th>Lat</th>\n",
       "      <th>Lng</th>\n",
       "      <th>Hotel Name</th>\n",
       "    </tr>\n",
       "  </thead>\n",
       "  <tbody>\n",
       "    <tr>\n",
       "      <th>0</th>\n",
       "      <td>0</td>\n",
       "      <td>Vila Velha</td>\n",
       "      <td>BR</td>\n",
       "      <td>71.94</td>\n",
       "      <td>1</td>\n",
       "      <td>-20.3297</td>\n",
       "      <td>-40.2925</td>\n",
       "      <td>Hotel Vitória Palace</td>\n",
       "    </tr>\n",
       "    <tr>\n",
       "      <th>1</th>\n",
       "      <td>4</td>\n",
       "      <td>Rikitea</td>\n",
       "      <td>PF</td>\n",
       "      <td>77.13</td>\n",
       "      <td>100</td>\n",
       "      <td>-23.1203</td>\n",
       "      <td>-134.9692</td>\n",
       "      <td>People ThankYou</td>\n",
       "    </tr>\n",
       "    <tr>\n",
       "      <th>2</th>\n",
       "      <td>5</td>\n",
       "      <td>Sinnamary</td>\n",
       "      <td>GF</td>\n",
       "      <td>78.94</td>\n",
       "      <td>64</td>\n",
       "      <td>5.3833</td>\n",
       "      <td>-52.9500</td>\n",
       "      <td>ALETHEIA Appartement Sinnamary</td>\n",
       "    </tr>\n",
       "    <tr>\n",
       "      <th>3</th>\n",
       "      <td>6</td>\n",
       "      <td>Sao Filipe</td>\n",
       "      <td>CV</td>\n",
       "      <td>70.95</td>\n",
       "      <td>9</td>\n",
       "      <td>14.8961</td>\n",
       "      <td>-24.4956</td>\n",
       "      <td>Hotel Xaguate</td>\n",
       "    </tr>\n",
       "    <tr>\n",
       "      <th>4</th>\n",
       "      <td>7</td>\n",
       "      <td>Maragogi</td>\n",
       "      <td>BR</td>\n",
       "      <td>75.81</td>\n",
       "      <td>100</td>\n",
       "      <td>-9.0122</td>\n",
       "      <td>-35.2225</td>\n",
       "      <td>Salinas do Maragogi All Inclusive Resort</td>\n",
       "    </tr>\n",
       "  </tbody>\n",
       "</table>\n",
       "</div>"
      ],
      "text/plain": [
       "   City_ID        City Country  Max Temp  Current Description      Lat  \\\n",
       "0        0  Vila Velha      BR     71.94                    1 -20.3297   \n",
       "1        4     Rikitea      PF     77.13                  100 -23.1203   \n",
       "2        5   Sinnamary      GF     78.94                   64   5.3833   \n",
       "3        6  Sao Filipe      CV     70.95                    9  14.8961   \n",
       "4        7    Maragogi      BR     75.81                  100  -9.0122   \n",
       "\n",
       "        Lng                                Hotel Name  \n",
       "0  -40.2925                      Hotel Vitória Palace  \n",
       "1 -134.9692                           People ThankYou  \n",
       "2  -52.9500            ALETHEIA Appartement Sinnamary  \n",
       "3  -24.4956                             Hotel Xaguate  \n",
       "4  -35.2225  Salinas do Maragogi All Inclusive Resort  "
      ]
     },
     "execution_count": 3,
     "metadata": {},
     "output_type": "execute_result"
    }
   ],
   "source": [
    "# 1. Read the WeatherPy_vacation.csv into a DataFrame.\n",
    "vacation_df = pd.read_csv(\"../Vacation_Search/WeatherPy_vacation.csv\")\n",
    "vacation_df.head()"
   ]
  },
  {
   "cell_type": "code",
   "execution_count": 6,
   "metadata": {},
   "outputs": [
    {
     "data": {
      "application/vnd.jupyter.widget-view+json": {
       "model_id": "d47819c442444440b3beb61b84df9164",
       "version_major": 2,
       "version_minor": 0
      },
      "text/plain": [
       "Figure(layout=FigureLayout(border='1px solid black', height='600px', padding='1px', width='1000px'))"
      ]
     },
     "metadata": {},
     "output_type": "display_data"
    }
   ],
   "source": [
    "# 2. Using the template add the city name, the country code, the weather description and maximum temperature for the city.\n",
    "#info_box_template = \"\"\"\n",
    "\n",
    "#\"\"\"\n",
    "# 11a. Add a marker layer for each city to the map. \n",
    "figure_layout = {\n",
    "    'width': '1000px',\n",
    "    'height': '600px',\n",
    "    'border': '1px solid black',\n",
    "    'padding': '1px'\n",
    "}\n",
    "\n",
    "coordinates = vacation_df.loc[:, [\"Lat\", \"Lng\"]].values\n",
    "\n",
    "\n",
    "popups = []\n",
    "for indx, row in vacation_df.iterrows():\n",
    "    info_box_template = f\"\"\"\n",
    "    <dl>\n",
    "    <dt>Hotel Name</dt><dd>{row[\"Hotel Name\"]}</dd>\n",
    "    <dt>City</dt><dd>{row[\"City\"]}</dd>\n",
    "    <dt>Country</dt><dd>{row[\"Country\"]}</dd>\n",
    "    <dt>Weather Description</dt><dd>{row[\"Current Description\"]}</dd>\n",
    "    <dt>Max Temp</dt><dd>{row[\"Max Temp\"]}</dd>\n",
    "    </dl>\n",
    "    \"\"\"\n",
    "    popups.append(info_box_template)\n",
    "\n",
    "\n",
    "fig = gmaps.figure(layout=figure_layout, map_type='HYBRID')\n",
    "\n",
    "markers = gmaps.marker_layer(coordinates, info_box_content=popups)\n",
    "fig.add_layer(markers)\n",
    "\n",
    "# 11b. Display the figure\n",
    "fig\n",
    "# 3a. Get the data from each row and add it to the formatting template and store the data in a list.\n",
    "#hotel_info = [info_box_template.format(**row) for index, row in clean_hotel_df.iterrows()]\n",
    "\n",
    "# 3b. Get the latitude and longitude from each row and store in a new DataFrame.\n",
    "#locations = clean_hotel_df[[\"Lat\", \"Lng\"]]\n",
    "# 4a. Add a marker layer for each city to the map.\n",
    "\n",
    "# 4b. Display the figure\n",
    "\n"
   ]
  },
  {
   "cell_type": "code",
   "execution_count": 4,
   "metadata": {},
   "outputs": [],
   "source": []
  },
  {
   "cell_type": "code",
   "execution_count": 8,
   "metadata": {},
   "outputs": [],
   "source": [
    "# From the map above pick 4 cities and create a vacation itinerary route to travel between the four cities. \n",
    "# 5. Create DataFrames for each city by filtering the 'vacation_df' using the loc method. \n",
    "# Hint: The starting and ending city should be the same city.\n",
    "\n",
    "vacation_start = \"Thanh Hoa\"\n",
    "vacation_end = \"Thanh Hoa\"\n",
    "city2 = \"Hue\"\n",
    "city3 = \"Quang Ngai\"\n",
    "city4 = \"Vung Tau\" \n",
    "\n",
    "vacation_start = vacation_df.loc[vacation_df[\"City\"] == vacation_start]\n",
    "vacation_end = vacation_df.loc[vacation_df[\"City\"] == vacation_end]  \n",
    "vacation_stop2 = vacation_df.loc[vacation_df[\"City\"] == city2]\n",
    "vacation_stop3 = vacation_df.loc[vacation_df[\"City\"] == city3] \n",
    "vacation_stop4 = vacation_df.loc[vacation_df[\"City\"] == city4]   "
   ]
  },
  {
   "cell_type": "code",
   "execution_count": 9,
   "metadata": {},
   "outputs": [],
   "source": [
    "# 6. Get the latitude-longitude pairs as tuples from each city DataFrame using the to_numpy function and list indexing.\n",
    "\n",
    "start = vacation_start[[\"Lat\", \"Lng\"]].to_numpy()[0]\n",
    "end = vacation_end[[\"Lat\", \"Lng\"]].to_numpy()[0]\n",
    "stop1 = vacation_stop2[[\"Lat\", \"Lng\"]].to_numpy()[0]\n",
    "stop2 = vacation_stop3[[\"Lat\", \"Lng\"]].to_numpy()[0]\n",
    "stop3 = vacation_stop4[[\"Lat\", \"Lng\"]].to_numpy()[0]  "
   ]
  },
  {
   "cell_type": "code",
   "execution_count": 10,
   "metadata": {
    "scrolled": true
   },
   "outputs": [
    {
     "data": {
      "application/vnd.jupyter.widget-view+json": {
       "model_id": "e01ee459e59f4107a192299c07951fce",
       "version_major": 2,
       "version_minor": 0
      },
      "text/plain": [
       "Figure(layout=FigureLayout(height='420px'))"
      ]
     },
     "metadata": {},
     "output_type": "display_data"
    }
   ],
   "source": [
    "# 7. Create a direction layer map using the start and end latitude-longitude pairs,\n",
    "# and stop1, stop2, and stop3 as the waypoints. The travel_mode should be \"DRIVING\", \"BICYCLING\", or \"WALKING\".\n",
    "fig = gmaps.figure()\n",
    "travel_route = gmaps.directions_layer(start, end, waypoints=[stop1,stop2,stop3], travel_mode=\"DRIVING\" or \"BICYCLING\" or \"WALKING\")\n",
    "fig.add_layer(travel_route)\n",
    "fig \n"
   ]
  },
  {
   "cell_type": "code",
   "execution_count": 12,
   "metadata": {},
   "outputs": [
    {
     "data": {
      "text/html": [
       "<div>\n",
       "<style scoped>\n",
       "    .dataframe tbody tr th:only-of-type {\n",
       "        vertical-align: middle;\n",
       "    }\n",
       "\n",
       "    .dataframe tbody tr th {\n",
       "        vertical-align: top;\n",
       "    }\n",
       "\n",
       "    .dataframe thead th {\n",
       "        text-align: right;\n",
       "    }\n",
       "</style>\n",
       "<table border=\"1\" class=\"dataframe\">\n",
       "  <thead>\n",
       "    <tr style=\"text-align: right;\">\n",
       "      <th></th>\n",
       "      <th>City_ID</th>\n",
       "      <th>City</th>\n",
       "      <th>Country</th>\n",
       "      <th>Max Temp</th>\n",
       "      <th>Current Description</th>\n",
       "      <th>Lat</th>\n",
       "      <th>Lng</th>\n",
       "      <th>Hotel Name</th>\n",
       "    </tr>\n",
       "  </thead>\n",
       "  <tbody>\n",
       "    <tr>\n",
       "      <th>0</th>\n",
       "      <td>392</td>\n",
       "      <td>Thanh Hoa</td>\n",
       "      <td>VN</td>\n",
       "      <td>87.93</td>\n",
       "      <td>100</td>\n",
       "      <td>19.8000</td>\n",
       "      <td>105.7667</td>\n",
       "      <td>KHÁCH SẠN NGỌC LY 8</td>\n",
       "    </tr>\n",
       "    <tr>\n",
       "      <th>1</th>\n",
       "      <td>251</td>\n",
       "      <td>Hue</td>\n",
       "      <td>VN</td>\n",
       "      <td>80.71</td>\n",
       "      <td>75</td>\n",
       "      <td>16.4667</td>\n",
       "      <td>107.6000</td>\n",
       "      <td>Saigon Morin Hotel</td>\n",
       "    </tr>\n",
       "    <tr>\n",
       "      <th>2</th>\n",
       "      <td>545</td>\n",
       "      <td>Quang Ngai</td>\n",
       "      <td>VN</td>\n",
       "      <td>84.36</td>\n",
       "      <td>67</td>\n",
       "      <td>15.1167</td>\n",
       "      <td>108.8000</td>\n",
       "      <td>Central Hotel</td>\n",
       "    </tr>\n",
       "    <tr>\n",
       "      <th>3</th>\n",
       "      <td>249</td>\n",
       "      <td>Vung Tau</td>\n",
       "      <td>VN</td>\n",
       "      <td>81.81</td>\n",
       "      <td>100</td>\n",
       "      <td>10.3460</td>\n",
       "      <td>107.0843</td>\n",
       "      <td>Seaside Resort</td>\n",
       "    </tr>\n",
       "  </tbody>\n",
       "</table>\n",
       "</div>"
      ],
      "text/plain": [
       "   City_ID        City Country  Max Temp  Current Description      Lat  \\\n",
       "0      392   Thanh Hoa      VN     87.93                  100  19.8000   \n",
       "1      251         Hue      VN     80.71                   75  16.4667   \n",
       "2      545  Quang Ngai      VN     84.36                   67  15.1167   \n",
       "3      249    Vung Tau      VN     81.81                  100  10.3460   \n",
       "\n",
       "        Lng           Hotel Name  \n",
       "0  105.7667  KHÁCH SẠN NGỌC LY 8  \n",
       "1  107.6000   Saigon Morin Hotel  \n",
       "2  108.8000        Central Hotel  \n",
       "3  107.0843       Seaside Resort  "
      ]
     },
     "execution_count": 12,
     "metadata": {},
     "output_type": "execute_result"
    }
   ],
   "source": [
    "# 8. To create a marker layer map between the four cities.\n",
    "#  Combine the four city DataFrames into one DataFrame using the concat() function.\n",
    "\n",
    "itinerary_df = pd.concat([vacation_start, vacation_stop2, vacation_stop3, vacation_stop4],ignore_index=True)\n",
    "itinerary_df "
   ]
  },
  {
   "cell_type": "code",
   "execution_count": 13,
   "metadata": {},
   "outputs": [],
   "source": [
    "# 9 Using the template add city name, the country code, the weather description and maximum temperature for the city. \n",
    "info_box_template = \"\"\"\n",
    "<dl>\n",
    "<dt>Hotel Name</dt><dd>{Hotel Name}</dd>\n",
    "<dt>City</dt><dd>{City}</dd>\n",
    "<dt>Country</dt><dd>{Country}</dd>\n",
    "<dt>Weather Description</dt><dd>{Current Description}</dd>\n",
    "<dt>Max Temp</dt><dd>{Max Temp}</dd>\n",
    "</dl>\n",
    "\"\"\"\n",
    "\n",
    "# 10a Get the data from each row and add it to the formatting template and store the data in a list.\n",
    "hotel_info = [info_box_template.format(**row) for index, row in itinerary_df.iterrows()]\n",
    "\n",
    "# 10b. Get the latitude and longitude from each row and store in a new DataFrame.\n",
    "locations = itinerary_df[[\"Lat\", \"Lng\"]]"
   ]
  },
  {
   "cell_type": "code",
   "execution_count": 14,
   "metadata": {},
   "outputs": [
    {
     "data": {
      "application/vnd.jupyter.widget-view+json": {
       "model_id": "468faf9244cf4e26b0c959a2c22ced5d",
       "version_major": 2,
       "version_minor": 0
      },
      "text/plain": [
       "Figure(layout=FigureLayout(height='420px'))"
      ]
     },
     "metadata": {},
     "output_type": "display_data"
    }
   ],
   "source": [
    "# 11a. Add a marker layer for each city to the map.\n",
    "fig_2 = gmaps.figure()\n",
    "markers = gmaps.marker_layer(locations, info_box_content=hotel_info)\n",
    "fig_2.add_layer(markers)\n",
    "# 11b. Display the figure\n",
    "fig_2"
   ]
  },
  {
   "cell_type": "code",
   "execution_count": null,
   "metadata": {},
   "outputs": [],
   "source": []
  }
 ],
 "metadata": {
  "kernelspec": {
   "display_name": "PythonData",
   "language": "python",
   "name": "pythondata"
  },
  "language_info": {
   "codemirror_mode": {
    "name": "ipython",
    "version": 3
   },
   "file_extension": ".py",
   "mimetype": "text/x-python",
   "name": "python",
   "nbconvert_exporter": "python",
   "pygments_lexer": "ipython3",
   "version": "3.7.11"
  },
  "latex_envs": {
   "LaTeX_envs_menu_present": true,
   "autoclose": false,
   "autocomplete": true,
   "bibliofile": "biblio.bib",
   "cite_by": "apalike",
   "current_citInitial": 1,
   "eqLabelWithNumbers": true,
   "eqNumInitial": 1,
   "hotkeys": {
    "equation": "Ctrl-E",
    "itemize": "Ctrl-I"
   },
   "labels_anchors": false,
   "latex_user_defs": false,
   "report_style_numbering": false,
   "user_envs_cfg": false
  }
 },
 "nbformat": 4,
 "nbformat_minor": 2
}
